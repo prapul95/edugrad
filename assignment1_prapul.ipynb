{
 "cells": [
  {
   "cell_type": "code",
   "execution_count": 10,
   "metadata": {},
   "outputs": [
    {
     "data": {
      "text/plain": [
       "[40, 50, 80, 40, 60, 50, 10, 20, 30, 20, 10]"
      ]
     },
     "execution_count": 10,
     "metadata": {},
     "output_type": "execute_result"
    }
   ],
   "source": [
    "a_list = [10,20,30,20,10,50,60,40,80,50,40]\n",
    "a_list.reverse()\n",
    "a_list"
   ]
  },
  {
   "cell_type": "code",
   "execution_count": 12,
   "metadata": {},
   "outputs": [
    {
     "name": "stdout",
     "output_type": "stream",
     "text": [
      "The smallest number in the list is 10 and the largest is 80\n"
     ]
    }
   ],
   "source": [
    "a_list = [10,20,30,35,50,45,60,55,80,75,25]\n",
    "print('The smallest number in the list is', min(a_list), 'and the largest is', max(a_list))"
   ]
  },
  {
   "cell_type": "code",
   "execution_count": 14,
   "metadata": {},
   "outputs": [
    {
     "name": "stdout",
     "output_type": "stream",
     "text": [
      "7156\n"
     ]
    }
   ],
   "source": [
    "items = [6, 50, 100, 7000]\n",
    "total = sum(items)\n",
    "print(total)"
   ]
  },
  {
   "cell_type": "code",
   "execution_count": 16,
   "metadata": {},
   "outputs": [
    {
     "name": "stdout",
     "output_type": "stream",
     "text": [
      "enter name, age, city, and courseprapul,20,hyderabad,cse\n",
      "('prapul', '20', 'hyderabad', 'cse')\n"
     ]
    }
   ],
   "source": [
    "a = input(\"enter name, age, city, and course\").split(\",\")\n",
    "student = tuple(a)\n",
    "print(student)"
   ]
  },
  {
   "cell_type": "code",
   "execution_count": 19,
   "metadata": {},
   "outputs": [
    {
     "data": {
      "text/plain": [
       "4"
      ]
     },
     "execution_count": 19,
     "metadata": {},
     "output_type": "execute_result"
    }
   ],
   "source": [
    "tup_count = len(student)\n",
    "tup_count"
   ]
  },
  {
   "cell_type": "code",
   "execution_count": 21,
   "metadata": {},
   "outputs": [],
   "source": [
    "s_name = student[0]\n",
    "s_age = student[1]\n",
    "s_city = student[2]\n",
    "s_course = student[3]"
   ]
  },
  {
   "cell_type": "code",
   "execution_count": 22,
   "metadata": {},
   "outputs": [
    {
     "name": "stdout",
     "output_type": "stream",
     "text": [
      "prapul 20 hyderabad cse\n"
     ]
    }
   ],
   "source": [
    "print(s_name , s_age , s_city , s_course)"
   ]
  },
  {
   "cell_type": "code",
   "execution_count": 23,
   "metadata": {},
   "outputs": [],
   "source": [
    "colors = {'col1':'Red','col2':'Blue','col3':'Yellow'}"
   ]
  },
  {
   "cell_type": "code",
   "execution_count": 24,
   "metadata": {},
   "outputs": [],
   "source": [
    "colors['col4'] = 'Green'"
   ]
  },
  {
   "cell_type": "code",
   "execution_count": 25,
   "metadata": {},
   "outputs": [],
   "source": [
    "colors['col2'] = 'orange'"
   ]
  },
  {
   "cell_type": "code",
   "execution_count": 26,
   "metadata": {},
   "outputs": [
    {
     "data": {
      "text/plain": [
       "{'col1': 'Red', 'col2': 'orange', 'col3': 'Yellow', 'col4': 'Green'}"
      ]
     },
     "execution_count": 26,
     "metadata": {},
     "output_type": "execute_result"
    }
   ],
   "source": [
    "colors"
   ]
  },
  {
   "cell_type": "code",
   "execution_count": 27,
   "metadata": {},
   "outputs": [],
   "source": [
    "a = ('col1','col2')\n",
    "colors_new = colors.fromkeys(a)"
   ]
  },
  {
   "cell_type": "code",
   "execution_count": 29,
   "metadata": {},
   "outputs": [
    {
     "name": "stdout",
     "output_type": "stream",
     "text": [
      "{'col1': 'Red', 'col2': 'orange', 'col3': 'Yellow', 'col4': 'Green'}\n",
      "{'col1': None, 'col2': None}\n"
     ]
    }
   ],
   "source": [
    "print(colors)\n",
    "print(colors_new)"
   ]
  },
  {
   "cell_type": "code",
   "execution_count": 30,
   "metadata": {},
   "outputs": [],
   "source": [
    "colors.clear()"
   ]
  },
  {
   "cell_type": "code",
   "execution_count": 33,
   "metadata": {},
   "outputs": [
    {
     "name": "stdout",
     "output_type": "stream",
     "text": [
      "None\n"
     ]
    }
   ],
   "source": [
    "print(colors_new['col2'])"
   ]
  },
  {
   "cell_type": "code",
   "execution_count": 34,
   "metadata": {},
   "outputs": [
    {
     "name": "stdout",
     "output_type": "stream",
     "text": [
      "Give atleast 1 and atmost 3 arguments\n"
     ]
    }
   ],
   "source": [
    "def ma(a,b=6,c=1):\n",
    "    return a*b+c\n",
    "try:\n",
    "    ma()\n",
    "except TypeError:\n",
    "    print(\"Give atleast 1 and atmost 3 arguments\")"
   ]
  },
  {
   "cell_type": "code",
   "execution_count": null,
   "metadata": {},
   "outputs": [],
   "source": []
  }
 ],
 "metadata": {
  "kernelspec": {
   "display_name": "Python 3",
   "language": "python",
   "name": "python3"
  },
  "language_info": {
   "codemirror_mode": {
    "name": "ipython",
    "version": 3
   },
   "file_extension": ".py",
   "mimetype": "text/x-python",
   "name": "python",
   "nbconvert_exporter": "python",
   "pygments_lexer": "ipython3",
   "version": "3.7.3"
  }
 },
 "nbformat": 4,
 "nbformat_minor": 2
}

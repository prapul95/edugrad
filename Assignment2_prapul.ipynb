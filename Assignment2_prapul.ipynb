{
 "cells": [
  {
   "cell_type": "code",
   "execution_count": 28,
   "metadata": {},
   "outputs": [
    {
     "name": "stdout",
     "output_type": "stream",
     "text": [
      "5x5 array with random values\n",
      "[[0.35305452 0.77308057 0.91116879 0.81083872 0.61126989]\n",
      " [0.12226376 0.18157432 0.78350166 0.08200443 0.03418223]\n",
      " [0.98053467 0.87096434 0.31430379 0.20248195 0.00216484]\n",
      " [0.56446226 0.84846511 0.78381235 0.15396438 0.28847722]\n",
      " [0.53921532 0.48113929 0.96097807 0.9115271  0.44093385]]\n",
      "\n",
      "for minimum value\n",
      "0.0021648436571473084\n",
      "\n",
      "for max value\n",
      "0.9805346663453022\n"
     ]
    }
   ],
   "source": [
    "#1\n",
    "import numpy as np\n",
    "x = np.random.random((5,5))\n",
    "print('5x5 array with random values')\n",
    "print(x)\n",
    "print('\\nfor minimum value')\n",
    "print(x.min())\n",
    "print('\\nfor max value')\n",
    "print(x.max())"
   ]
  },
  {
   "cell_type": "code",
   "execution_count": 29,
   "metadata": {},
   "outputs": [
    {
     "data": {
      "text/plain": [
       "array([4, 2, 8, 9, 1, 7, 3, 0, 5, 6])"
      ]
     },
     "execution_count": 29,
     "metadata": {},
     "output_type": "execute_result"
    }
   ],
   "source": [
    "#2\n",
    "a = np.arange(10)\n",
    "np.random.shuffle(a)\n",
    "a"
   ]
  },
  {
   "cell_type": "code",
   "execution_count": 30,
   "metadata": {},
   "outputs": [
    {
     "name": "stdout",
     "output_type": "stream",
     "text": [
      "[[0.38781912 0.61745433 0.19954905 0.06047647]\n",
      " [0.89721472 0.79390224 0.34591878 0.47450112]\n",
      " [0.50717936 0.55646337 0.57368918 0.95776193]\n",
      " [0.47086132 0.18429001 0.9106628  0.86530564]\n",
      " [0.66080709 0.89440045 0.32288279 0.04800369]\n",
      " [0.14989192 0.38819703 0.06488709 0.35354185]\n",
      " [0.82771779 0.25921304 0.07246606 0.51989971]\n",
      " [0.35041448 0.47917394 0.44900032 0.86881399]\n",
      " [0.77652442 0.89777399 0.32220668 0.8005579 ]\n",
      " [0.35309751 0.83238402 0.86054823 0.79438856]]\n",
      "\n",
      " First five rows of an array\n",
      "[[0.38781912 0.61745433 0.19954905 0.06047647]\n",
      " [0.89721472 0.79390224 0.34591878 0.47450112]\n",
      " [0.50717936 0.55646337 0.57368918 0.95776193]\n",
      " [0.47086132 0.18429001 0.9106628  0.86530564]\n",
      " [0.66080709 0.89440045 0.32288279 0.04800369]]\n"
     ]
    }
   ],
   "source": [
    "#3\n",
    "x = np.random.rand(10,4)\n",
    "print(x)\n",
    "y = x[:5,:]\n",
    "print('\\n First five rows of an array')\n",
    "print(y)"
   ]
  },
  {
   "cell_type": "code",
   "execution_count": 31,
   "metadata": {},
   "outputs": [
    {
     "name": "stdout",
     "output_type": "stream",
     "text": [
      "FIRST ARRAY:\n",
      "[1 1 1 0 2]\n",
      "SECOND ARRAY\n",
      "[1 0 1 1 1]\n",
      "Above two arrays are equal or not\n",
      "False\n"
     ]
    }
   ],
   "source": [
    "#4\n",
    "x = np.random.randint(0,3,5)\n",
    "print('FIRST ARRAY:')\n",
    "print(x)\n",
    "y = np.random.randint(0,3,5)\n",
    "print('SECOND ARRAY')\n",
    "print(y)\n",
    "print('Above two arrays are equal or not')\n",
    "array_equal = np.allclose(x,y)\n",
    "print(array_equal)"
   ]
  },
  {
   "cell_type": "code",
   "execution_count": 32,
   "metadata": {},
   "outputs": [
    {
     "name": "stdout",
     "output_type": "stream",
     "text": [
      "5\n"
     ]
    }
   ],
   "source": [
    "#5\n",
    "def most_frequent(List):\n",
    "  return max(set(List), key = List.count)\n",
    "List = [6,9,5,1,7,5,1,0,1,5,5,0,8,9,0,7,0,7,6,5,1,1,9,5,3,8,7,9,6,3,4,5,9,7,2,7,0,2,2,6]\n",
    "print(most_frequent(List))"
   ]
  },
  {
   "cell_type": "code",
   "execution_count": null,
   "metadata": {},
   "outputs": [],
   "source": []
  }
 ],
 "metadata": {
  "kernelspec": {
   "display_name": "Python 3",
   "language": "python",
   "name": "python3"
  },
  "language_info": {
   "codemirror_mode": {
    "name": "ipython",
    "version": 3
   },
   "file_extension": ".py",
   "mimetype": "text/x-python",
   "name": "python",
   "nbconvert_exporter": "python",
   "pygments_lexer": "ipython3",
   "version": "3.7.3"
  }
 },
 "nbformat": 4,
 "nbformat_minor": 2
}
